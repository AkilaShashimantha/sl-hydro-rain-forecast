{
 "cells": [
  {
   "cell_type": "markdown",
   "metadata": {},
   "source": [
    "# Sri Lanka Rain & Energy — Model Training Notebook\n",
    "\n",
    "This notebook trains and evaluates forecasting models using the shared pipeline. Commit this notebook and keep heavy artifacts in `artifacts/` (gitignored)."
   ]
  },
  {
   "cell_type": "code",
   "execution_count": null,
   "metadata": {},
   "outputs": [],
   "source": [
    "import os\n",
    "import math\n",
    "import numpy as np\n",
    "import pandas as pd\n",
    "from pathlib import Path\n",
    "from sklearn.metrics import mean_absolute_error, mean_squared_error\n",
    "import joblib\n",
    "\n",
    "from src.pipeline import (\n",
    "    load_csv, clean_daily, aggregate_monthly, make_supervised,\n",
    "    train_model, ts_backtest\n",
    ")\n",
    "\n",
    "DATA_PATH = Path('data/sri_lanka_weather_energy_daily.csv')\n",
    "TARGET = 'Hydroelectric_Production_GWh'  # change to 'Average_Rainfall_mm' or 'Total_Generation_GWh'\n",
    "ALGO = 'Gradient Boosting'  # 'Random Forest' | 'Linear Regression'\n",
    "ARTIFACTS_DIR = Path('artifacts')\n",
    "ARTIFACTS_DIR.mkdir(parents=True, exist_ok=True)"
   ]
  },
  {
   "cell_type": "code",
   "execution_count": null,
   "metadata": {},
   "outputs": [],
   "source": [
    "raw = load_csv(DATA_PATH)\n",
    "daily = clean_daily(raw)\n",
    "monthly = aggregate_monthly(daily)\n",
    "assert TARGET in monthly.columns, f'{TARGET} not found in monthly columns: {monthly.columns.tolist()}'\n",
    "sup = make_supervised(monthly, TARGET)\n",
    "X, y = sup.drop(columns=[TARGET]), sup[TARGET]\n",
    "len(X), X.shape"
   ]
  },
  {
   "cell_type": "code",
   "execution_count": null,
   "metadata": {},
   "outputs": [],
   "source": [
    "# Time-series cross-validation\n",
    "mae, rmse = ts_backtest(X, y, algo=ALGO, n_splits=min(5, max(2, len(X)//24)))\n",
    "mae, rmse"
   ]
  },
  {
   "cell_type": "code",
   "execution_count": null,
   "metadata": {},
   "outputs": [],
   "source": [
    "# Train final model and persist\n",
    "model = train_model(X, y, ALGO)\n",
    "out_path = ARTIFACTS_DIR / f'model_{TARGET.replace("/","-")}_{ALGO.replace(" ", "_").lower()}.joblib'\n",
    "joblib.dump({'model': model, 'features': X.columns.tolist(), 'target': TARGET}, out_path)\n",
    "out_path"
   ]
  },
  {
   "cell_type": "markdown",
   "metadata": {},
   "source": [
    "## Next steps\n",
    "- Run for each target and compare metrics.\n",
    "- Optionally check feature importances (if available).\n",
    "- Commit the notebook; large `.joblib` models are saved in `artifacts/` (ignored by git)."
   ]
  }
 ],
 "metadata": {
  "kernelspec": {
   "display_name": "Python 3",
   "language": "python",
   "name": "python3"
  },
  "language_info": {
   "name": "python",
   "version": "3.10"
  }
 },
 "nbformat": 4,
 "nbformat_minor": 5
}
